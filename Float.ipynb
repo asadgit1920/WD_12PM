{
 "cells": [
  {
   "cell_type": "markdown",
   "id": "79fa74a3",
   "metadata": {},
   "source": [
    "# Float\n",
    " >float constructor is float()\n",
    "    \n",
    " >float literal is 0.0\n",
    " \n",
    " > 0-9\n"
   ]
  },
  {
   "cell_type": "code",
   "execution_count": 1,
   "id": "04b7ad91",
   "metadata": {},
   "outputs": [],
   "source": [
    "#1.03 1.00005    108.000026455769797"
   ]
  },
  {
   "cell_type": "code",
   "execution_count": 3,
   "id": "f7364c66",
   "metadata": {},
   "outputs": [
    {
     "name": "stdout",
     "output_type": "stream",
     "text": [
      "50.2\n"
     ]
    }
   ],
   "source": [
    "a=float(50.2)\n",
    "print(a)"
   ]
  },
  {
   "cell_type": "code",
   "execution_count": 5,
   "id": "66172018",
   "metadata": {},
   "outputs": [
    {
     "name": "stdout",
     "output_type": "stream",
     "text": [
      "5.45\n"
     ]
    }
   ],
   "source": [
    "a=5.45\n",
    "print(a)"
   ]
  },
  {
   "cell_type": "code",
   "execution_count": 6,
   "id": "5053032e",
   "metadata": {},
   "outputs": [
    {
     "name": "stdout",
     "output_type": "stream",
     "text": [
      "100\n"
     ]
    }
   ],
   "source": [
    "a=10**2\n",
    "print(a)"
   ]
  },
  {
   "cell_type": "code",
   "execution_count": 10,
   "id": "6a4d2a90",
   "metadata": {},
   "outputs": [
    {
     "name": "stdout",
     "output_type": "stream",
     "text": [
      "200000.0\n"
     ]
    }
   ],
   "source": [
    "a=2e5 # e return float e is 10 power\n",
    "print(a)"
   ]
  },
  {
   "cell_type": "code",
   "execution_count": 12,
   "id": "71173d64",
   "metadata": {},
   "outputs": [
    {
     "name": "stdout",
     "output_type": "stream",
     "text": [
      "200000.0\n"
     ]
    }
   ],
   "source": [
    "b=2.0*(10**5)\n",
    "print(b)"
   ]
  },
  {
   "cell_type": "code",
   "execution_count": null,
   "id": "2e0d9a4d",
   "metadata": {},
   "outputs": [],
   "source": []
  }
 ],
 "metadata": {
  "kernelspec": {
   "display_name": "Python 3 (ipykernel)",
   "language": "python",
   "name": "python3"
  },
  "language_info": {
   "codemirror_mode": {
    "name": "ipython",
    "version": 3
   },
   "file_extension": ".py",
   "mimetype": "text/x-python",
   "name": "python",
   "nbconvert_exporter": "python",
   "pygments_lexer": "ipython3",
   "version": "3.10.9"
  }
 },
 "nbformat": 4,
 "nbformat_minor": 5
}
