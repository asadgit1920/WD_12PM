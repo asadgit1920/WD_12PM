{
 "cells": [
  {
   "cell_type": "markdown",
   "id": "9e311b5c",
   "metadata": {},
   "source": [
    "# variable\n",
    "\n",
    "> use to store the value\n",
    "\n",
    "> must be readable\n",
    "\n",
    "> it can contain a-z A-Z 0-9 \n",
    " \n",
    "> Only special character is _"
   ]
  },
  {
   "cell_type": "code",
   "execution_count": 1,
   "id": "699d4cf8",
   "metadata": {},
   "outputs": [],
   "source": [
    "a=4"
   ]
  },
  {
   "cell_type": "code",
   "execution_count": 2,
   "id": "e3d2c548",
   "metadata": {},
   "outputs": [
    {
     "data": {
      "text/plain": [
       "4"
      ]
     },
     "execution_count": 2,
     "metadata": {},
     "output_type": "execute_result"
    }
   ],
   "source": [
    "a"
   ]
  },
  {
   "cell_type": "code",
   "execution_count": 4,
   "id": "7a7a7c39",
   "metadata": {},
   "outputs": [
    {
     "name": "stdout",
     "output_type": "stream",
     "text": [
      "9\n"
     ]
    }
   ],
   "source": [
    "AB=9\n",
    "print(AB)"
   ]
  },
  {
   "cell_type": "code",
   "execution_count": 6,
   "id": "074c3d21",
   "metadata": {},
   "outputs": [
    {
     "name": "stdout",
     "output_type": "stream",
     "text": [
      "8\n"
     ]
    }
   ],
   "source": [
    "A_9=8\n",
    "print(A_9)"
   ]
  },
  {
   "cell_type": "code",
   "execution_count": 7,
   "id": "4d0cfab8",
   "metadata": {},
   "outputs": [
    {
     "name": "stdout",
     "output_type": "stream",
     "text": [
      "92\n",
      "9.0\n"
     ]
    }
   ],
   "source": [
    "A=92\n",
    "print(A)\n",
    "C=9.000\n",
    "print(C)"
   ]
  },
  {
   "cell_type": "code",
   "execution_count": 9,
   "id": "c3521ca6",
   "metadata": {},
   "outputs": [],
   "source": [
    "# variable cannot start with digit\n",
    "# varaible do not contain space between them\n"
   ]
  },
  {
   "cell_type": "code",
   "execution_count": 10,
   "id": "d312d281",
   "metadata": {},
   "outputs": [
    {
     "ename": "SyntaxError",
     "evalue": "invalid decimal literal (2948830502.py, line 1)",
     "output_type": "error",
     "traceback": [
      "\u001b[1;36m  Cell \u001b[1;32mIn[10], line 1\u001b[1;36m\u001b[0m\n\u001b[1;33m    9A=44\u001b[0m\n\u001b[1;37m    ^\u001b[0m\n\u001b[1;31mSyntaxError\u001b[0m\u001b[1;31m:\u001b[0m invalid decimal literal\n"
     ]
    }
   ],
   "source": [
    "9A=44"
   ]
  },
  {
   "cell_type": "code",
   "execution_count": 11,
   "id": "4e6b05ec",
   "metadata": {},
   "outputs": [
    {
     "ename": "SyntaxError",
     "evalue": "invalid syntax (3713594909.py, line 1)",
     "output_type": "error",
     "traceback": [
      "\u001b[1;36m  Cell \u001b[1;32mIn[11], line 1\u001b[1;36m\u001b[0m\n\u001b[1;33m    umesh khanduri=9\u001b[0m\n\u001b[1;37m          ^\u001b[0m\n\u001b[1;31mSyntaxError\u001b[0m\u001b[1;31m:\u001b[0m invalid syntax\n"
     ]
    }
   ],
   "source": [
    "umesh khanduri=9"
   ]
  },
  {
   "cell_type": "code",
   "execution_count": 12,
   "id": "abc94e13",
   "metadata": {},
   "outputs": [],
   "source": [
    "hello_is_am=89 # snake"
   ]
  },
  {
   "cell_type": "code",
   "execution_count": 14,
   "id": "0cfdeb27",
   "metadata": {},
   "outputs": [],
   "source": [
    "helloIsAm=90 # camel"
   ]
  },
  {
   "cell_type": "code",
   "execution_count": 15,
   "id": "b904cdfe",
   "metadata": {},
   "outputs": [],
   "source": [
    "HelloIsAm=90 # pacel"
   ]
  },
  {
   "cell_type": "code",
   "execution_count": 16,
   "id": "92a79cba",
   "metadata": {},
   "outputs": [],
   "source": [
    "_hello=90"
   ]
  },
  {
   "cell_type": "code",
   "execution_count": 17,
   "id": "39e9123f",
   "metadata": {},
   "outputs": [
    {
     "ename": "SyntaxError",
     "evalue": "invalid syntax (3542906410.py, line 1)",
     "output_type": "error",
     "traceback": [
      "\u001b[1;36m  Cell \u001b[1;32mIn[17], line 1\u001b[1;36m\u001b[0m\n\u001b[1;33m    hello@is=90\u001b[0m\n\u001b[1;37m          ^\u001b[0m\n\u001b[1;31mSyntaxError\u001b[0m\u001b[1;31m:\u001b[0m invalid syntax\n"
     ]
    }
   ],
   "source": [
    "hello@is=90"
   ]
  },
  {
   "cell_type": "code",
   "execution_count": 20,
   "id": "96aeca26",
   "metadata": {},
   "outputs": [],
   "source": [
    "a=2*(10**2)"
   ]
  },
  {
   "cell_type": "code",
   "execution_count": 21,
   "id": "7b37bb4c",
   "metadata": {},
   "outputs": [
    {
     "data": {
      "text/plain": [
       "200"
      ]
     },
     "execution_count": 21,
     "metadata": {},
     "output_type": "execute_result"
    }
   ],
   "source": [
    "a"
   ]
  },
  {
   "cell_type": "code",
   "execution_count": 22,
   "id": "07000432",
   "metadata": {},
   "outputs": [
    {
     "data": {
      "text/plain": [
       "'0b1011'"
      ]
     },
     "execution_count": 22,
     "metadata": {},
     "output_type": "execute_result"
    }
   ],
   "source": [
    "bin(11)\n"
   ]
  },
  {
   "cell_type": "code",
   "execution_count": 23,
   "id": "0ffdd4f0",
   "metadata": {},
   "outputs": [
    {
     "data": {
      "text/plain": [
       "521"
      ]
     },
     "execution_count": 23,
     "metadata": {},
     "output_type": "execute_result"
    }
   ],
   "source": [
    "1+8+512"
   ]
  },
  {
   "cell_type": "code",
   "execution_count": 24,
   "id": "d7f08e5b",
   "metadata": {},
   "outputs": [],
   "source": [
    "a=0o1011\n"
   ]
  },
  {
   "cell_type": "code",
   "execution_count": 25,
   "id": "add21272",
   "metadata": {},
   "outputs": [
    {
     "data": {
      "text/plain": [
       "521"
      ]
     },
     "execution_count": 25,
     "metadata": {},
     "output_type": "execute_result"
    }
   ],
   "source": [
    "a"
   ]
  },
  {
   "cell_type": "code",
   "execution_count": 26,
   "id": "8daf2ec6",
   "metadata": {},
   "outputs": [],
   "source": [
    "#asad.ducat@gmail.com"
   ]
  },
  {
   "cell_type": "code",
   "execution_count": null,
   "id": "23580665",
   "metadata": {},
   "outputs": [],
   "source": []
  }
 ],
 "metadata": {
  "kernelspec": {
   "display_name": "Python 3 (ipykernel)",
   "language": "python",
   "name": "python3"
  },
  "language_info": {
   "codemirror_mode": {
    "name": "ipython",
    "version": 3
   },
   "file_extension": ".py",
   "mimetype": "text/x-python",
   "name": "python",
   "nbconvert_exporter": "python",
   "pygments_lexer": "ipython3",
   "version": "3.10.9"
  }
 },
 "nbformat": 4,
 "nbformat_minor": 5
}
