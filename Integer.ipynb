{
 "cells": [
  {
   "cell_type": "markdown",
   "id": "54dc8f7a",
   "metadata": {},
   "source": [
    "0-poistive\n",
    "1-negative\n",
    "\n",
    "b-binary\n",
    "o-octa\n",
    "x-hex"
   ]
  },
  {
   "cell_type": "markdown",
   "id": "48a3f92a",
   "metadata": {},
   "source": [
    "# Data Type\n",
    "\n",
    "## Integer \n",
    "\n"
   ]
  },
  {
   "cell_type": "markdown",
   "id": "bc3a6635",
   "metadata": {},
   "source": [
    "> Integer constructor is int()\n",
    "\n",
    "> integer literal is 0\n",
    "\n",
    "> 0,1,2,3,4,5,6,7,8,9\n",
    "\n",
    "> Interger base is 10\n"
   ]
  },
  {
   "cell_type": "code",
   "execution_count": 4,
   "id": "17f6bbe1",
   "metadata": {},
   "outputs": [],
   "source": [
    "#0-9\n",
    "\n",
    "a=int()"
   ]
  },
  {
   "cell_type": "code",
   "execution_count": 5,
   "id": "e643838e",
   "metadata": {},
   "outputs": [
    {
     "data": {
      "text/plain": [
       "0"
      ]
     },
     "execution_count": 5,
     "metadata": {},
     "output_type": "execute_result"
    }
   ],
   "source": [
    "a"
   ]
  },
  {
   "cell_type": "code",
   "execution_count": 6,
   "id": "6c430847",
   "metadata": {},
   "outputs": [],
   "source": [
    "a=int(5)"
   ]
  },
  {
   "cell_type": "code",
   "execution_count": 7,
   "id": "474961b0",
   "metadata": {},
   "outputs": [
    {
     "data": {
      "text/plain": [
       "5"
      ]
     },
     "execution_count": 7,
     "metadata": {},
     "output_type": "execute_result"
    }
   ],
   "source": [
    "a"
   ]
  },
  {
   "cell_type": "code",
   "execution_count": 8,
   "id": "f7984073",
   "metadata": {},
   "outputs": [],
   "source": [
    "a=int(7872655)"
   ]
  },
  {
   "cell_type": "code",
   "execution_count": 9,
   "id": "d04098e5",
   "metadata": {},
   "outputs": [
    {
     "data": {
      "text/plain": [
       "7872655"
      ]
     },
     "execution_count": 9,
     "metadata": {},
     "output_type": "execute_result"
    }
   ],
   "source": [
    "a"
   ]
  },
  {
   "cell_type": "code",
   "execution_count": 14,
   "id": "68e9a28e",
   "metadata": {},
   "outputs": [
    {
     "name": "stdout",
     "output_type": "stream",
     "text": [
      "89\n"
     ]
    }
   ],
   "source": [
    "a=89\n",
    "print(a)"
   ]
  },
  {
   "cell_type": "code",
   "execution_count": 15,
   "id": "b264e4f6",
   "metadata": {},
   "outputs": [
    {
     "name": "stdout",
     "output_type": "stream",
     "text": [
      "89\n"
     ]
    }
   ],
   "source": [
    "b=98\n",
    "print(a)"
   ]
  },
  {
   "cell_type": "code",
   "execution_count": 16,
   "id": "7f9eda7e",
   "metadata": {},
   "outputs": [
    {
     "name": "stdout",
     "output_type": "stream",
     "text": [
      "89 98\n"
     ]
    }
   ],
   "source": [
    "print(a,b)"
   ]
  },
  {
   "cell_type": "code",
   "execution_count": 17,
   "id": "a31274f8",
   "metadata": {},
   "outputs": [
    {
     "data": {
      "text/plain": [
       "'0b1100010'"
      ]
     },
     "execution_count": 17,
     "metadata": {},
     "output_type": "execute_result"
    }
   ],
   "source": [
    "bin(98)"
   ]
  },
  {
   "cell_type": "code",
   "execution_count": 21,
   "id": "66af841b",
   "metadata": {},
   "outputs": [
    {
     "data": {
      "text/plain": [
       "97"
      ]
     },
     "execution_count": 21,
     "metadata": {},
     "output_type": "execute_result"
    }
   ],
   "source": [
    "#ord\n",
    "ord('a') #Give value of ASCII Code"
   ]
  },
  {
   "cell_type": "code",
   "execution_count": 20,
   "id": "0767a607",
   "metadata": {},
   "outputs": [
    {
     "data": {
      "text/plain": [
       "91"
      ]
     },
     "execution_count": 20,
     "metadata": {},
     "output_type": "execute_result"
    }
   ],
   "source": [
    "65+26"
   ]
  },
  {
   "cell_type": "code",
   "execution_count": null,
   "id": "bb28bbc5",
   "metadata": {},
   "outputs": [],
   "source": []
  }
 ],
 "metadata": {
  "kernelspec": {
   "display_name": "Python 3 (ipykernel)",
   "language": "python",
   "name": "python3"
  },
  "language_info": {
   "codemirror_mode": {
    "name": "ipython",
    "version": 3
   },
   "file_extension": ".py",
   "mimetype": "text/x-python",
   "name": "python",
   "nbconvert_exporter": "python",
   "pygments_lexer": "ipython3",
   "version": "3.10.9"
  }
 },
 "nbformat": 4,
 "nbformat_minor": 5
}
